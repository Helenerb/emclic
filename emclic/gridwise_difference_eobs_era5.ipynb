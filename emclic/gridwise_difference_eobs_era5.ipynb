{
 "cells": [
  {
   "cell_type": "markdown",
   "id": "893c804c",
   "metadata": {},
   "source": [
    "# Perform regridding of E-OBS and ERA-5 for Warsaw and Madrid\n",
    "\n",
    "In this notebook, we reformat, and specifically regrids, E-OBS and ERA-5 data, so that they are comparable. Since regridding is a computationally intensive process, we select areas around Warsaw and Madrid, and perform the regridding for this data specifically. \n",
    "\n",
    "The E-OBS and ERA-5 have the same grid size, but the location of the grid points are shifted in comparison to each other. To get the data on comparable grids, we halve the gridsize of both sets of data, so that the resulting grid is half the size, but easily comparable. \n",
    "\n",
    "We note that this means that the result from e.g. subtracting one data set from another, will have an artificially fine grid. However, we then avoid performing any smoothing operations etc, when doing the regridding. "
   ]
  },
  {
   "cell_type": "code",
   "execution_count": 2,
   "id": "38047b98",
   "metadata": {},
   "outputs": [],
   "source": [
    "import cartopy.crs as ccrs\n",
    "import xarray as xr\n",
    "import matplotlib.pyplot as plt\n",
    "import cdo\n",
    "import os"
   ]
  },
  {
   "cell_type": "code",
   "execution_count": 3,
   "id": "2553d20c",
   "metadata": {},
   "outputs": [],
   "source": [
    "# instansiate cdo object\n",
    "myCdo = cdo.Cdo()"
   ]
  },
  {
   "cell_type": "code",
   "execution_count": 4,
   "id": "b5c0bf91",
   "metadata": {},
   "outputs": [],
   "source": [
    "from scripts.local_paths import eobsPath, era5Path"
   ]
  },
  {
   "cell_type": "markdown",
   "id": "e245c4df",
   "metadata": {},
   "source": [
    "### Madrid"
   ]
  },
  {
   "cell_type": "code",
   "execution_count": 5,
   "id": "c7908916",
   "metadata": {},
   "outputs": [
    {
     "name": "stdout",
     "output_type": "stream",
     "text": [
      "Selected date\n"
     ]
    },
    {
     "data": {
      "text/plain": [
       "'data/E-OBS/temp_eobs_largeMadrid.nc'"
      ]
     },
     "execution_count": 5,
     "metadata": {},
     "output_type": "execute_result"
    }
   ],
   "source": [
    "#   ----  extract wide area around Madrid for regridding and select apprpriate time frame   ----\n",
    "\n",
    "# E-OBS\n",
    "myCdo.seldate(\"1990-01-01,2021-06-30\", input = eobsPath(\"tx_ens_mean_0.25deg_reg_v24.0e.nc\"),\n",
    "              output = eobsPath(\"temp_eobs1990.nc\"))\n",
    "\n",
    "print(\"Selected date\")\n",
    "\n",
    "# select large area\n",
    "myCdo.sellonlatbox(\"-4.90,-2.50,39.25,41.55\", input = eobsPath(\"temp_eobs1990.nc\"),\n",
    "                   output = eobsPath(\"temp_eobs_largeMadrid.nc\"))"
   ]
  },
  {
   "cell_type": "code",
   "execution_count": 6,
   "id": "0cccbeb5",
   "metadata": {},
   "outputs": [
    {
     "data": {
      "text/plain": [
       "0"
      ]
     },
     "execution_count": 6,
     "metadata": {},
     "output_type": "execute_result"
    }
   ],
   "source": [
    "# delete redundant file\n",
    "os.system(\"rm {}\".format(eobsPath(\"temp_eobs1990.nc\")))"
   ]
  },
  {
   "cell_type": "code",
   "execution_count": 7,
   "id": "06df6035",
   "metadata": {},
   "outputs": [
    {
     "data": {
      "text/plain": [
       "'data/ERA-5/temp_era5_largeMadrid.nc'"
      ]
     },
     "execution_count": 7,
     "metadata": {},
     "output_type": "execute_result"
    }
   ],
   "source": [
    "# ERA-5   --- start with selecting area before selecting time - faster\n",
    "\n",
    "myCdo.sellonlatbox(\"-4.90,-2.50,39.25,41.55\", input = era5Path(\"maxtemp2m_ERA5_1979-2020.nc\"),\n",
    "                   output = era5Path(\"temp_era5_largeMadrid1979.nc\"))\n",
    "\n",
    "myCdo.seldate(\"1990-01-01T11:30:00,2020-05-15T10:30:00\", input = era5Path(\"temp_era5_largeMadrid1979.nc\"),\n",
    "              output = era5Path(\"temp_era5_largeMadrid.nc\"))"
   ]
  },
  {
   "cell_type": "code",
   "execution_count": 8,
   "id": "10fcde48",
   "metadata": {},
   "outputs": [
    {
     "data": {
      "text/plain": [
       "0"
      ]
     },
     "execution_count": 8,
     "metadata": {},
     "output_type": "execute_result"
    }
   ],
   "source": [
    "os.system(\"rm {}\".format(era5Path(\"temp_era5_largeMadrid1979.nc\")))  # delete temp file"
   ]
  },
  {
   "cell_type": "code",
   "execution_count": 9,
   "id": "9cbf0712",
   "metadata": {},
   "outputs": [
    {
     "data": {
      "text/plain": [
       "'data/ERA-5/temp_era5_largeMadridCelsius.nc'"
      ]
     },
     "execution_count": 9,
     "metadata": {},
     "output_type": "execute_result"
    }
   ],
   "source": [
    "# change era5 data from Celcius to Kelvin, and change name of variable\n",
    "\n",
    "myCdo.setattribute('tx@units=\"Celcius\"',\n",
    "                   input = '-chname,tasmax,tx -addc,-273.15 {}'.format(era5Path(\"temp_era5_largeMadrid.nc\")),\n",
    "                   output = era5Path(\"temp_era5_largeMadridCelsius.nc\"))\n",
    "\n"
   ]
  },
  {
   "cell_type": "code",
   "execution_count": 10,
   "id": "42cea8be",
   "metadata": {},
   "outputs": [
    {
     "data": {
      "text/plain": [
       "0"
      ]
     },
     "execution_count": 10,
     "metadata": {},
     "output_type": "execute_result"
    }
   ],
   "source": [
    "os.system(\"rm {}\".format(era5Path(\"temp_era5_largeMadrid.nc\")))  # delete temp file"
   ]
  },
  {
   "cell_type": "code",
   "execution_count": 11,
   "id": "858dae13",
   "metadata": {},
   "outputs": [],
   "source": [
    "#   ----   Perform regridding  ----\n",
    "\n",
    "# define new grids:\n",
    "\n",
    "regrid_eobs = \"\"\"\n",
    "gridtype  = lonlat\n",
    "gridsize  = 323\n",
    "xsize     = 19\n",
    "ysize     = 17\n",
    "xname     = longitude\n",
    "xlongname = \"Longitude values\"\n",
    "xunits    = \"degrees_east\"\n",
    "yname     = latitude\n",
    "ylongname = \"Latitude values\"\n",
    "yunits    = \"degrees_north\"\n",
    "xfirst    = -4.875\n",
    "xinc      = 0.125\n",
    "yfirst    = 39.375\n",
    "yinc      = 0.125\n",
    "\"\"\"\n",
    "\n",
    "with open(eobsPath(\"regrid_eobs_Madrid.txt\"), \"wt\") as f:\n",
    "    f.write(regrid_eobs)\n",
    "\n",
    "regrid_era5 = \"\"\"\n",
    "gridtype  = lonlat\n",
    "gridsize  = 361\n",
    "datatype  = float\n",
    "xsize     = 19\n",
    "ysize     = 19\n",
    "xname     = longitude\n",
    "xlongname = \"longitude\"\n",
    "xunits    = \"degrees_east\"\n",
    "yname     = latitude\n",
    "ylongname = \"latitude\"\n",
    "yunits    = \"degrees_north\"\n",
    "xfirst    = 355.25\n",
    "xinc      = 0.125\n",
    "yfirst    = 39.125\n",
    "yinc      = 0.125\n",
    "\"\"\"\n",
    "# note: implicitly changes N-S orientation, to S->N\n",
    "\n",
    "with open(era5Path(\"regrid_era5_Madrid.txt\"), \"wt\") as f:\n",
    "    f.write(regrid_era5)"
   ]
  },
  {
   "cell_type": "code",
   "execution_count": 5,
   "id": "487e9911",
   "metadata": {},
   "outputs": [
    {
     "data": {
      "text/plain": [
       "'data/E-OBS/regrid_eobs_Madrid.nc'"
      ]
     },
     "execution_count": 5,
     "metadata": {},
     "output_type": "execute_result"
    }
   ],
   "source": [
    "# Use remapbil function of cdo to do regridding\n",
    "\n",
    "#E-OBS\n",
    "myCdo.remapbil(eobsPath(\"regrid_eobs_Madrid.txt\"), input = eobsPath(\"temp_eobs_largeMadrid.nc\"),\n",
    "               output = eobsPath(\"temp_regrid_eobs_largeMadrid.nc\"))\n",
    "                \n",
    "\n",
    "# select area close around Madrid after regridding process, to avoid errors at the edges of the regridded area\n",
    "myCdo.sellonlatbox(\"-3.90,-3.50,40.25,40.41\", input = eobsPath(\"temp_regrid_eobs_largeMadrid.nc\"),\n",
    "                   output = eobsPath(\"regrid_eobs_Madrid.nc\"))\n",
    "                   #output = \"/div/no-backup/users/hebe/data/E-OBS/regrid_eobs_Madrid.nc\")\n"
   ]
  },
  {
   "cell_type": "code",
   "execution_count": 6,
   "id": "5ce72bbe",
   "metadata": {},
   "outputs": [
    {
     "data": {
      "text/plain": [
       "0"
      ]
     },
     "execution_count": 6,
     "metadata": {},
     "output_type": "execute_result"
    }
   ],
   "source": [
    "os.system(\"rm {}\".format(eobsPath(\"temp_regrid_eobs_largeMadrid.nc\")))  # remove temp file"
   ]
  },
  {
   "cell_type": "code",
   "execution_count": 9,
   "id": "789d35d1",
   "metadata": {},
   "outputs": [
    {
     "data": {
      "text/plain": [
       "'data/ERA-5/regrid_era5_Madrid.nc'"
      ]
     },
     "execution_count": 9,
     "metadata": {},
     "output_type": "execute_result"
    }
   ],
   "source": [
    "# ERA-5\n",
    "myCdo.remapbil(era5Path(\"regrid_era5_Madrid.txt\"), input = era5Path(\"temp_era5_largeMadridCelsius.nc\"),\n",
    "               output = era5Path(\"temp_regrid_era5_largeMadrid.nc\"))\n",
    "\n",
    "myCdo.sellonlatbox(\"-3.90,-3.50,40.25,40.41\", input = era5Path(\"temp_regrid_era5_largeMadrid.nc\"),\n",
    "                   output = era5Path(\"regrid_era5_Madrid.nc\"))\n",
    "                   #output = \"/div/no-backup/users/hebe/data/ERA-5/regrid_era5_Madrid.nc\")"
   ]
  },
  {
   "cell_type": "code",
   "execution_count": 10,
   "id": "6606068f",
   "metadata": {},
   "outputs": [
    {
     "data": {
      "text/plain": [
       "0"
      ]
     },
     "execution_count": 10,
     "metadata": {},
     "output_type": "execute_result"
    }
   ],
   "source": [
    "os.system(\"rm {}\".format(era5Path(\"temp_regrid_era5_largeMadrid.nc\")))  # remove temp file"
   ]
  },
  {
   "cell_type": "code",
   "execution_count": 13,
   "id": "67005b52",
   "metadata": {},
   "outputs": [
    {
     "data": {
      "text/plain": [
       "'data/difference_era5_eobs_Madrid.nc'"
      ]
     },
     "execution_count": 13,
     "metadata": {},
     "output_type": "execute_result"
    }
   ],
   "source": [
    "#   ----   Find daily difference   ----\n",
    "\n",
    "myCdo.sub(input = \"{} {}\".format(eobsPath(\"regrid_eobs_Madrid.nc\"), era5Path(\"regrid_era5_Madrid.nc\")),\n",
    "          output = \"data/difference_era5_eobs_Madrid.nc\")\n",
    "          #output = \"/div/no-backup/users/hebe/data/difference_era5_eobs_Madrid.nc\")\n",
    "          "
   ]
  },
  {
   "cell_type": "markdown",
   "id": "31382546",
   "metadata": {},
   "source": [
    "### Perform the same procedure for Warsaw"
   ]
  },
  {
   "cell_type": "code",
   "execution_count": 14,
   "id": "ba417c32",
   "metadata": {},
   "outputs": [
    {
     "data": {
      "text/plain": [
       "0"
      ]
     },
     "execution_count": 14,
     "metadata": {},
     "output_type": "execute_result"
    }
   ],
   "source": [
    "#   ----   For Warsaw   ----\n",
    "\n",
    "#   ----  extract wide area around Warsaw for regridding and select apprpriate time frame   ----\n",
    "\n",
    "# E-OBS\n",
    "\n",
    "myCdo.seldate(\"1990-01-01,2021-06-30\", input = eobsPath(\"tx_ens_mean_0.25deg_reg_v24.0e.nc\"),\n",
    "              output = eobsPath(\"temp_eobs1990.nc\"))\n",
    "\n",
    "# select large area\n",
    "myCdo.sellonlatbox(\"19.8,22.3,51.05,53.4\", input = eobsPath(\"temp_eobs1990.nc\"),\n",
    "                   output = eobsPath(\"temp_eobs_largeWarsaw.nc\"))\n",
    "\n",
    "os.system(\"rm {}\".format(eobsPath(\"temp_eobs1990.nc\")))\n",
    "\n",
    "# ERA-5   --- start with selecting area before selecting time - faster\n",
    "\n",
    "myCdo.sellonlatbox(\"19.8,22.3,51.05,53.4\", input = era5Path(\"maxtemp2m_ERA5_1979-2020.nc\"),\n",
    "                   output = era5Path(\"temp_era5_largeWarsaw1979.nc\"))\n",
    "\n",
    "myCdo.seldate(\"1990-01-01T11:30:00,2020-05-15T10:30:00\", input = era5Path(\"temp_era5_largeWarsaw1979.nc\"),\n",
    "              output = era5Path(\"temp_era5_largeWarsaw.nc\"))\n",
    "\n",
    "os.system(\"rm {}\".format(era5Path(\"temp_era5_largeWarsaw1979.nc\")))\n",
    "\n",
    "# change era5 data from Celcius to Kelvin, and change name of variable\n",
    "\n",
    "myCdo.setattribute('tx@units=\"Celcius\"',\n",
    "                   input = '-chname,tasmax,tx -addc,-273.15 {}'.format(era5Path(\"temp_era5_largeWarsaw.nc\")),\n",
    "                   output = era5Path(\"temp_era5_largeWarsawCelsius.nc\"))\n",
    "\n",
    "os.system(\"rm {}\".format(era5Path(\"temp_era5_largeWarsaw.nc\")))"
   ]
  },
  {
   "cell_type": "code",
   "execution_count": 5,
   "id": "4c6ee9a4",
   "metadata": {},
   "outputs": [],
   "source": [
    "#   ----   Perform regridding  ----\n",
    "\n",
    "# define new grids:\n",
    "\n",
    "regrid_eobs_warsaw = \"\"\"\n",
    "gridtype  = lonlat\n",
    "gridsize  = 361\n",
    "xsize     = 19\n",
    "ysize     = 19\n",
    "xname     = longitude\n",
    "xlongname = \"Longitude values\"\n",
    "xunits    = \"degrees_east\"\n",
    "yname     = latitude\n",
    "ylongname = \"Latitude values\"\n",
    "yunits    = \"degrees_north\"\n",
    "xfirst    = 19.875\n",
    "xinc      = 0.125\n",
    "yfirst    = 51.125\n",
    "yinc      = 0.125\n",
    "\"\"\"\n",
    "\n",
    "with open(eobsPath(\"regrid_eobs_Warsaw.txt\"), \"wt\") as f:\n",
    "    f.write(regrid_eobs_warsaw)\n",
    "\n",
    "regrid_era5_warsaw = \"\"\"\n",
    "gridtype  = lonlat\n",
    "gridsize  = 323\n",
    "datatype  = float\n",
    "xsize     = 19\n",
    "ysize     = 17\n",
    "xname     = longitude\n",
    "xlongname = \"longitude\"\n",
    "xunits    = \"degrees_east\"\n",
    "yname     = latitude\n",
    "ylongname = \"latitude\"\n",
    "yunits    = \"degrees_north\"\n",
    "xfirst    = 20\n",
    "xinc      = 0.125\n",
    "yfirst    = 51.125\n",
    "yinc      = 0.125\n",
    "\"\"\"\n",
    "\n",
    "# note: implicitly changes N-S orientation, to S-> N\n",
    "\n",
    "with open(era5Path(\"regrid_era5_Warsaw.txt\"), \"wt\") as f:\n",
    "    f.write(regrid_era5_warsaw)"
   ]
  },
  {
   "cell_type": "code",
   "execution_count": 8,
   "id": "6c350c93",
   "metadata": {},
   "outputs": [
    {
     "data": {
      "text/plain": [
       "0"
      ]
     },
     "execution_count": 8,
     "metadata": {},
     "output_type": "execute_result"
    }
   ],
   "source": [
    "\n",
    "#E-OBS\n",
    "myCdo.remapbil(eobsPath(\"regrid_eobs_Warsaw.txt\"), input = eobsPath(\"temp_eobs_largeWarsaw.nc\"),\n",
    "               output = eobsPath(\"temp_regrid_eobs_largeWarsaw.nc\"))\n",
    "\n",
    "myCdo.sellonlatbox(\"20.8,21.3,52.05,52.4\", input = eobsPath(\"temp_regrid_eobs_largeWarsaw.nc\"),\n",
    "                   output = eobsPath(\"regrid_eobs_Warsaw.nc\"))\n",
    "                   #output = \"/div/no-backup/users/hebe/data/E-OBS/regrid_eobs_Warsaw.nc\")\n",
    "\n",
    "os.system(\"rm {}\".format(eobsPath(\"temp_regrid_eobs_largeWarsaw.nc\")))\n",
    "\n",
    "# ERA-5\n",
    "myCdo.remapbil(era5Path(\"regrid_era5_Warsaw.txt\"), input = era5Path(\"temp_era5_largeWarsawCelsius.nc\"),\n",
    "               output = era5Path(\"temp_regrid_era5_largeWarsaw.nc\"))\n",
    "\n",
    "myCdo.sellonlatbox(\"20.8,21.3,52.05,52.4\", input = era5Path(\"temp_regrid_era5_largeWarsaw.nc\"),\n",
    "                   output = era5Path(\"regrid_era5_Warsaw.nc\"))\n",
    "                   #output = \"/div/no-backup/users/hebe/data/ERA-5/regrid_era5_Warsaw.nc\")\n",
    "\n",
    "os.system(\"rm {}\".format(era5Path(\"temp_regrid_era5_largeWarsaw.nc\")))\n"
   ]
  },
  {
   "cell_type": "code",
   "execution_count": 11,
   "id": "825a9377",
   "metadata": {},
   "outputs": [
    {
     "data": {
      "text/plain": [
       "'data/difference_era5_eobs_Warsaw.nc'"
      ]
     },
     "execution_count": 11,
     "metadata": {},
     "output_type": "execute_result"
    }
   ],
   "source": [
    "#   ----   Find daily difference   ----\n",
    "\n",
    "myCdo.sub(input = \"{} {}\".format(eobsPath(\"regrid_eobs_Warsaw.nc\"), era5Path(\"regrid_era5_Warsaw.nc\")),\n",
    "          output = \"data/difference_era5_eobs_Warsaw.nc\")\n",
    "          #output = \"/div/no-backup/users/hebe/data/difference_era5_eobs_Warsaw.nc\")\n"
   ]
  }
 ],
 "metadata": {
  "kernelspec": {
   "display_name": "Python 3",
   "language": "python",
   "name": "python3"
  },
  "language_info": {
   "codemirror_mode": {
    "name": "ipython",
    "version": 3
   },
   "file_extension": ".py",
   "mimetype": "text/x-python",
   "name": "python",
   "nbconvert_exporter": "python",
   "pygments_lexer": "ipython3",
   "version": "3.8.8"
  }
 },
 "nbformat": 4,
 "nbformat_minor": 5
}
