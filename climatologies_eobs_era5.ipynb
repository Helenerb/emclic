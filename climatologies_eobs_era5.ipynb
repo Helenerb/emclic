{
 "cells": [
  {
   "cell_type": "markdown",
   "id": "b5352422",
   "metadata": {},
   "source": [
    "## Comparable climatologies for ERA-5 and E-OBS data \n",
    "###  Madrid and Warsaw  - Maximum Daily Temperature\n",
    "\n",
    "Calculates climatologies from regridded E-OBS and ERA-5 data, for selections of the coordinates of Warsaw and Madrid. The formatting in this notebook produces:  \n",
    "- Monthly averages of the daily maximum temperature\n",
    "- Daily anomalies from the monthly average\n",
    "- Difference in monthly average of daily maximum temperature between E-OBS and ERA-5 data"
   ]
  },
  {
   "cell_type": "code",
   "execution_count": 1,
   "id": "829298cc",
   "metadata": {},
   "outputs": [],
   "source": [
    "# necessary imports\n",
    "import cdo\n",
    "import os"
   ]
  },
  {
   "cell_type": "code",
   "execution_count": 2,
   "id": "b6b9df2c",
   "metadata": {},
   "outputs": [],
   "source": [
    "# instantiate cdo-object\n",
    "myCdo = cdo.Cdo()"
   ]
  },
  {
   "cell_type": "code",
   "execution_count": 3,
   "id": "ec501b22",
   "metadata": {},
   "outputs": [],
   "source": [
    "from local_paths import eobsPath, era5Path  # local paths to data storage"
   ]
  },
  {
   "cell_type": "code",
   "execution_count": 4,
   "id": "c9f0653e",
   "metadata": {},
   "outputs": [
    {
     "name": "stdout",
     "output_type": "stream",
     "text": [
      "Error in calling operator monavg with:\n",
      ">>> /div/qbo/users/py3Env/venvPy3/bin/cdo -O -s -monavg data/E-OBS/regrid_eobs_Madrid.nc data/E-OBS/monavg_regrid_eobs_Madrid.nc<<<\n",
      "STDOUT:cdf_create        : ncid = -1  mode = 4096  chunksizehint = 0 file = data/E-OBS/monavg_regrid_eobs_Madrid.nc\n",
      "\n",
      "\n",
      "STDERR:Error (cdf_create): data/E-OBS/monavg_regrid_eobs_Madrid.nc: Permission denied\n",
      "\n"
     ]
    },
    {
     "ename": "CDOException",
     "evalue": "(returncode:1) Error (cdf_create): data/E-OBS/monavg_regrid_eobs_Madrid.nc: Permission denied\n :: ",
     "output_type": "error",
     "traceback": [
      "\u001b[0;31m---------------------------------------------------------------------------\u001b[0m",
      "\u001b[0;31mCDOException\u001b[0m                              Traceback (most recent call last)",
      "\u001b[0;32m<ipython-input-4-bd54f2072d12>\u001b[0m in \u001b[0;36m<module>\u001b[0;34m\u001b[0m\n\u001b[1;32m      8\u001b[0m \u001b[0;34m\u001b[0m\u001b[0m\n\u001b[1;32m      9\u001b[0m \u001b[0;31m# E-obs, Madrid\u001b[0m\u001b[0;34m\u001b[0m\u001b[0;34m\u001b[0m\u001b[0;34m\u001b[0m\u001b[0m\n\u001b[0;32m---> 10\u001b[0;31m \u001b[0mmyCdo\u001b[0m\u001b[0;34m.\u001b[0m\u001b[0mmonavg\u001b[0m\u001b[0;34m(\u001b[0m\u001b[0minput\u001b[0m \u001b[0;34m=\u001b[0m \u001b[0meobsPath\u001b[0m\u001b[0;34m(\u001b[0m\u001b[0;34m\"regrid_eobs_Madrid.nc\"\u001b[0m\u001b[0;34m)\u001b[0m\u001b[0;34m,\u001b[0m \u001b[0moutput\u001b[0m \u001b[0;34m=\u001b[0m \u001b[0meobsPath\u001b[0m\u001b[0;34m(\u001b[0m\u001b[0;34m\"monavg_regrid_eobs_Madrid.nc\"\u001b[0m\u001b[0;34m)\u001b[0m\u001b[0;34m)\u001b[0m\u001b[0;34m\u001b[0m\u001b[0;34m\u001b[0m\u001b[0m\n\u001b[0m\u001b[1;32m     11\u001b[0m \u001b[0;34m\u001b[0m\u001b[0m\n\u001b[1;32m     12\u001b[0m \u001b[0;31m# E-obs, Warsaw\u001b[0m\u001b[0;34m\u001b[0m\u001b[0;34m\u001b[0m\u001b[0;34m\u001b[0m\u001b[0m\n",
      "\u001b[0;32m/storage/qbo/users/py3Env/venvPy3/lib/python3.8/site-packages/cdo.py\u001b[0m in \u001b[0;36m__call__\u001b[0;34m(self, *args, **kwargs)\u001b[0m\n\u001b[1;32m    549\u001b[0m             \u001b[0;32mreturn\u001b[0m \u001b[0;32mNone\u001b[0m\u001b[0;34m\u001b[0m\u001b[0;34m\u001b[0m\u001b[0m\n\u001b[1;32m    550\u001b[0m           \u001b[0;32melse\u001b[0m\u001b[0;34m:\u001b[0m\u001b[0;34m\u001b[0m\u001b[0;34m\u001b[0m\u001b[0m\n\u001b[0;32m--> 551\u001b[0;31m             \u001b[0;32mraise\u001b[0m \u001b[0mCDOException\u001b[0m\u001b[0;34m(\u001b[0m\u001b[0;34m**\u001b[0m\u001b[0mretvals\u001b[0m\u001b[0;34m)\u001b[0m\u001b[0;34m\u001b[0m\u001b[0;34m\u001b[0m\u001b[0m\n\u001b[0m\u001b[1;32m    552\u001b[0m       \u001b[0;32melse\u001b[0m\u001b[0;34m:\u001b[0m\u001b[0;34m\u001b[0m\u001b[0;34m\u001b[0m\u001b[0m\n\u001b[1;32m    553\u001b[0m         \u001b[0;32mif\u001b[0m \u001b[0mself\u001b[0m\u001b[0;34m.\u001b[0m\u001b[0mdebug\u001b[0m\u001b[0;34m:\u001b[0m\u001b[0;34m\u001b[0m\u001b[0;34m\u001b[0m\u001b[0m\n",
      "\u001b[0;31mCDOException\u001b[0m: (returncode:1) Error (cdf_create): data/E-OBS/monavg_regrid_eobs_Madrid.nc: Permission denied\n :: "
     ]
    }
   ],
   "source": [
    "# climatology, monthly average using monavg:\n",
    "\n",
    "# Era-5, Madrid\n",
    "myCdo.monavg(input = era5Path(\"regrid_era5_Madrid.nc\"), output = era5Path(\"monavg_regrid_era5_Madrid.nc\"))\n",
    "\n",
    "# Era-5, Warsaw\n",
    "myCdo.monavg(input = era5Path(\"regrid_era5_Warsaw.nc\"), output = era5Path(\"monavg_regrid_era5_Warsaw.nc\"))\n",
    "\n",
    "# E-obs, Madrid\n",
    "myCdo.monavg(input = eobsPath(\"regrid_eobs_Madrid.nc\"), output = eobsPath(\"monavg_regrid_eobs_Madrid.nc\"))\n",
    "\n",
    "# E-obs, Warsaw\n",
    "myCdo.monavg(input = eobsPath(\"regrid_eobs_Warsaw.nc\"), output = eobsPath(\"monavg_regrid_eobs_Warsaw.nc\"))\n"
   ]
  },
  {
   "cell_type": "code",
   "execution_count": null,
   "id": "9df215e1",
   "metadata": {},
   "outputs": [],
   "source": [
    "# anomalies from montly averages\n",
    "\n",
    "# Era-5, Madrid\n",
    "myCdo.monsub(input = \"{} {}\".format(era5Path(\"regrid_era5_Madrid.nc\"), era5Path(\"monavg_regrid_era5_Madrid.nc\")),\n",
    "             output = era5Path(\"anomalies_mon_regrid_era5_Madrid.nc\"))\n",
    "\n",
    "# Era-5, Warsaw\n",
    "myCdo.monsub(input = \"{} {}\".format(era5Path(\"regrid_era5_Warsaw.nc\"), era5Path(\"monavg_regrid_era5_Warsaw.nc\")),\n",
    "             output = era5Path(\"anomalies_mon_regrid_era5_Warsaw.nc\"))\n",
    "\n",
    "# Eobs, Madrid\n",
    "myCdo.monsub(input = \"{} {}\".format(eobsPath(\"regrid_eobs_Madrid.nc\"), eobsPath(\"monavg_regrid_eobs_Madrid.nc\")),\n",
    "             output = eobsPath(\"anomalies_mon_regrid_eobs_Madrid.nc\"))\n",
    "\n",
    "# Eobs, Warsaw\n",
    "myCdo.monsub(input = \"{} {}\".format(eobsPath(\"regrid_eobs_Warsaw.nc\"), eobsPath(\"monavg_regrid_eobs_Warsaw.nc\")),\n",
    "             output = eobsPath(\"anomalies_mon_regrid_eobs_Warsaw.nc\"))\n",
    "\n"
   ]
  },
  {
   "cell_type": "code",
   "execution_count": null,
   "id": "55569363",
   "metadata": {},
   "outputs": [],
   "source": [
    "# differences in monthly averages\n",
    "\n",
    "# Madrid\n",
    "myCdo.sub(input = \"{} {}\".format(eobsPath(\"monavg_regrid_eobs_Madrid.nc\"), era5Path(\"monavg_regrid_era5_Madrid.nc\")),\n",
    "          output = \"data/monavg_difference_eobs_era5_Madrid.nc\")\n",
    "\n",
    "# Warsaw\n",
    "myCdo.sub(input = \"{} {}\".format(eobsPath(\"monavg_regrid_eobs_Warsaw.nc\"), era5Path(\"monavg_regrid_era5_Warsaw.nc\")),\n",
    "          output = \"data/monavg_difference_eobs_era5_Warsaw.nc\")\n"
   ]
  }
 ],
 "metadata": {
  "kernelspec": {
   "display_name": "Python 3",
   "language": "python",
   "name": "python3"
  },
  "language_info": {
   "codemirror_mode": {
    "name": "ipython",
    "version": 3
   },
   "file_extension": ".py",
   "mimetype": "text/x-python",
   "name": "python",
   "nbconvert_exporter": "python",
   "pygments_lexer": "ipython3",
   "version": "3.8.8"
  }
 },
 "nbformat": 4,
 "nbformat_minor": 5
}
