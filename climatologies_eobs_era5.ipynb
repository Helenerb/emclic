{
 "cells": [
  {
   "cell_type": "markdown",
   "id": "b5352422",
   "metadata": {},
   "source": [
    "## Comparable climatologies for ERA-5 and E-OBS data \n",
    "###  Madrid and Warsaw  - Maximum Daily Temperature\n",
    "\n",
    "Calculates climatologies from regridded E-OBS and ERA-5 data, for selections of the coordinates of Warsaw and Madrid. The formatting in this notebook produces:  \n",
    "- Monthly averages of the daily maximum temperature\n",
    "- Daily anomalies from the monthly average\n",
    "- Difference in monthly average of daily maximum temperature between E-OBS and ERA-5 data"
   ]
  },
  {
   "cell_type": "code",
   "execution_count": 1,
   "id": "829298cc",
   "metadata": {},
   "outputs": [],
   "source": [
    "# necessary imports\n",
    "import cdo\n",
    "import os"
   ]
  },
  {
   "cell_type": "code",
   "execution_count": 2,
   "id": "b6b9df2c",
   "metadata": {},
   "outputs": [],
   "source": [
    "# instantiate cdo-object\n",
    "myCdo = cdo.Cdo()"
   ]
  },
  {
   "cell_type": "code",
   "execution_count": 3,
   "id": "ec501b22",
   "metadata": {},
   "outputs": [],
   "source": [
    "from local_paths import eobsPath, era5Path  # local paths to data storage"
   ]
  },
  {
   "cell_type": "code",
   "execution_count": 19,
   "id": "c9f0653e",
   "metadata": {},
   "outputs": [
    {
     "name": "stdout",
     "output_type": "stream",
     "text": [
      "This worked\n",
      "The second thing worked, which was: \n",
      "input:  data/ERA-5/regrid_era5_Warsaw.nc \n",
      "output:  data/ERA-5/monavg_regrid_era5_Warsaw.nc\n",
      "We are trying to access the files: \n",
      "input:  data/E-OBS/regrid_eobs_Madrid.nc \n",
      "output:  data/E-OBS/monavg_regrid_eobs_Madrid.nc\n",
      "Trying with E-OBS Warsaw instead of E-OBS Madrid\n"
     ]
    },
    {
     "data": {
      "text/plain": [
       "'data/E-OBS/monavg_regrid_eobs_Warsaw.nc'"
      ]
     },
     "execution_count": 19,
     "metadata": {},
     "output_type": "execute_result"
    }
   ],
   "source": [
    "# climatology, monthly average using monavg:\n",
    "\n",
    "# Era-5, Madrid\n",
    "myCdo.monavg(input = era5Path(\"regrid_era5_Madrid.nc\"), output = era5Path(\"monavg_regrid_era5_Madrid.nc\"))\n",
    "print(\"This worked\")\n",
    "\n",
    "# Era-5, Warsaw\n",
    "myCdo.monavg(input = era5Path(\"regrid_era5_Warsaw.nc\"), output = era5Path(\"monavg_regrid_era5_Warsaw.nc\"))\n",
    "print(\"The second thing worked, which was: \\ninput: \", era5Path(\"regrid_era5_Warsaw.nc\"),\n",
    "      \"\\noutput: \", era5Path(\"monavg_regrid_era5_Warsaw.nc\"))\n",
    "\n",
    "print(\"We are trying to access the files: \\ninput: \", eobsPath(\"regrid_eobs_Madrid.nc\"),\n",
    "      \"\\noutput: \", eobsPath(\"monavg_regrid_eobs_Madrid.nc\"))\n",
    "\n",
    "# E-obs, Madrid\n",
    "myCdo.monavg(input = eobsPath(\"regrid_eobs_Madrid.nc\"), \n",
    "             output = eobsPath(\"monavg_regrid_eobs_Madrid.nc\"))\n",
    "             #output = \"/div/no-backup/users/hebe/data/E-OBS/monavg_regrid_eobs_Madrid.nc\")\n",
    "             \n",
    "\n",
    "print(\"Trying with E-OBS Warsaw instead of E-OBS Madrid\")\n",
    "# E-obs, Warsaw\n",
    "myCdo.monavg(input = eobsPath(\"regrid_eobs_Warsaw.nc\"),\n",
    "             output = eobsPath(\"monavg_regrid_eobs_Warsaw.nc\"))\n",
    "             #output = \"/div/no-backup/users/hebe/data/E-OBS/monavg_regrid_eobs_Warsaw.nc\")"
   ]
  },
  {
   "cell_type": "code",
   "execution_count": 22,
   "id": "9df215e1",
   "metadata": {},
   "outputs": [
    {
     "data": {
      "text/plain": [
       "'data/E-OBS/anomalies_mon_regrid_eobs_Warsaw.nc'"
      ]
     },
     "execution_count": 22,
     "metadata": {},
     "output_type": "execute_result"
    }
   ],
   "source": [
    "# anomalies from montly averages\n",
    "\n",
    "# Era-5, Madrid\n",
    "myCdo.monsub(input = \"{} {}\".format(era5Path(\"regrid_era5_Madrid.nc\"), era5Path(\"monavg_regrid_era5_Madrid.nc\")),\n",
    "             output = era5Path(\"anomalies_mon_regrid_era5_Madrid.nc\"))\n",
    "\n",
    "# Era-5, Warsaw\n",
    "myCdo.monsub(input = \"{} {}\".format(era5Path(\"regrid_era5_Warsaw.nc\"), era5Path(\"monavg_regrid_era5_Warsaw.nc\")),\n",
    "             output = era5Path(\"anomalies_mon_regrid_era5_Warsaw.nc\"))\n",
    "\n",
    "# Eobs, Madrid\n",
    "myCdo.monsub(input = \"{} {}\".format(eobsPath(\"regrid_eobs_Madrid.nc\"), eobsPath(\"monavg_regrid_eobs_Madrid.nc\")),\n",
    "             output = eobsPath(\"anomalies_mon_regrid_eobs_Madrid.nc\"))\n",
    "             #output = \"/div/no-backup/users/hebe/data/E-OBS/anomalies_mon_regrid_eobs_Madrid.nc\")\n",
    "\n",
    "# Eobs, Warsaw\n",
    "myCdo.monsub(input = \"{} {}\".format(eobsPath(\"regrid_eobs_Warsaw.nc\"), eobsPath(\"monavg_regrid_eobs_Warsaw.nc\")),\n",
    "             output = eobsPath(\"anomalies_mon_regrid_eobs_Warsaw.nc\"))\n",
    "             #output = \"/div/no-backup/users/hebe/data/E-OBS/anomalies_mon_regrid_eobs_Warsaw.nc\")\n",
    "\n"
   ]
  },
  {
   "cell_type": "code",
   "execution_count": 25,
   "id": "55569363",
   "metadata": {},
   "outputs": [
    {
     "data": {
      "text/plain": [
       "'data/monavg_difference_eobs_era5_Warsaw.nc'"
      ]
     },
     "execution_count": 25,
     "metadata": {},
     "output_type": "execute_result"
    }
   ],
   "source": [
    "# differences in monthly averages\n",
    "\n",
    "# Madrid\n",
    "myCdo.sub(input = \"{} {}\".format(eobsPath(\"monavg_regrid_eobs_Madrid.nc\"), era5Path(\"monavg_regrid_era5_Madrid.nc\")),\n",
    "          output = \"data/monavg_difference_eobs_era5_Madrid.nc\")\n",
    "          #output = \"/div/no-backup/users/hebe/data/monavg_difference_eobs_era5_Madrid.nc\")\n",
    "          \n",
    "\n",
    "# Warsaw\n",
    "myCdo.sub(input = \"{} {}\".format(eobsPath(\"monavg_regrid_eobs_Warsaw.nc\"), era5Path(\"monavg_regrid_era5_Warsaw.nc\")),\n",
    "          output = \"data/monavg_difference_eobs_era5_Warsaw.nc\")\n",
    "          #output = \"/div/no-backup/users/hebe/data/monavg_difference_eobs_era5_Warsaw.nc\")\n",
    "          \n"
   ]
  }
 ],
 "metadata": {
  "kernelspec": {
   "display_name": "Python 3",
   "language": "python",
   "name": "python3"
  },
  "language_info": {
   "codemirror_mode": {
    "name": "ipython",
    "version": 3
   },
   "file_extension": ".py",
   "mimetype": "text/x-python",
   "name": "python",
   "nbconvert_exporter": "python",
   "pygments_lexer": "ipython3",
   "version": "3.8.8"
  }
 },
 "nbformat": 4,
 "nbformat_minor": 5
}
